{
 "cells": [
  {
   "cell_type": "code",
   "execution_count": 1,
   "id": "5fc0ab82-cfcf-4411-84fb-fb32dba66a6e",
   "metadata": {},
   "outputs": [],
   "source": [
    "## Import Packages\n",
    "import os\n",
    "import pandas as pd\n",
    "import numpy as np\n",
    "import matplotlib.pyplot as plt\n",
    "from sklearn.model_selection import train_test_split\n",
    "from sklearn.preprocessing import StandardScaler\n",
    "from sklearn.metrics import accuracy_score, roc_curve, auc\n",
    "from tensorflow.keras.models import Sequential\n",
    "from tensorflow.keras.layers import Dense, Input"
   ]
  },
  {
   "cell_type": "code",
   "execution_count": 2,
   "id": "8fdaec93-8d47-4755-a3fb-5229b297cc26",
   "metadata": {
    "scrolled": true
   },
   "outputs": [
    {
     "name": "stdout",
     "output_type": "stream",
     "text": [
      "Training sets size: (199504, 14)\n",
      "Test sets size: (199504, 14)\n"
     ]
    }
   ],
   "source": [
    "## Data Preparations\n",
    "df_smeared = pd.read_csv(\"combined_dataset_withz.csv\")  # Nominal events on BA classifier\n",
    "df_fixedz = pd.read_csv(\"combined_dataset_z+1.csv\")\n",
    "\n",
    "X_train = df_smeared.drop(columns=['event', 'label', 'z']).values\n",
    "y_train = df_smeared['label'].values\n",
    "X_test = df_fixedz.drop(columns=['event', 'label', 'z']).values\n",
    "y_test = df_fixedz['label'].values\n",
    "\n",
    "print('Training sets size:', X_train.shape)\n",
    "print('Test sets size:', X_test.shape)"
   ]
  },
  {
   "cell_type": "code",
   "execution_count": 3,
   "id": "735858a8-38b1-4268-95d4-83f3a6858a64",
   "metadata": {},
   "outputs": [],
   "source": [
    "## Standarlize the data set\n",
    "# Initialize a StandardScaler object\n",
    "scaler = StandardScaler()\n",
    "\n",
    "# Fit the scaler on training data only\n",
    "# This computes mean and std using training set (x-mu)/std\n",
    "scaler.fit(X_train)\n",
    "\n",
    "# Transform training data\n",
    "X_train_scaled = scaler.transform(X_train)\n",
    "\n",
    "# Transform test data using SAME scaling parameters\n",
    "X_test_scaled = scaler.transform(X_test)"
   ]
  },
  {
   "cell_type": "code",
   "execution_count": 4,
   "id": "29b01ac2-47f1-4ba2-b404-e32e374bac6e",
   "metadata": {},
   "outputs": [],
   "source": [
    "## Define Keras Model\n",
    "model = Sequential()\n",
    "model.add(Input(shape=(14,)))  \n",
    "model.add(Dense(12, activation='relu'))\n",
    "model.add(Dense(8, activation='relu'))\n",
    "model.add(Dense(1, activation='sigmoid'))"
   ]
  },
  {
   "cell_type": "code",
   "execution_count": 5,
   "id": "a82b3508-e460-4bee-80d0-edc634cd72cb",
   "metadata": {},
   "outputs": [
    {
     "name": "stdout",
     "output_type": "stream",
     "text": [
      "Epoch 1/50\n",
      "19951/19951 - 26s - 1ms/step - accuracy: 0.7141 - loss: 0.5612\n",
      "Epoch 2/50\n",
      "19951/19951 - 26s - 1ms/step - accuracy: 0.7246 - loss: 0.5485\n",
      "Epoch 3/50\n",
      "19951/19951 - 26s - 1ms/step - accuracy: 0.7261 - loss: 0.5466\n",
      "Epoch 4/50\n",
      "19951/19951 - 26s - 1ms/step - accuracy: 0.7265 - loss: 0.5453\n",
      "Epoch 5/50\n",
      "19951/19951 - 26s - 1ms/step - accuracy: 0.7271 - loss: 0.5440\n",
      "Epoch 6/50\n",
      "19951/19951 - 25s - 1ms/step - accuracy: 0.7273 - loss: 0.5435\n",
      "Epoch 7/50\n",
      "19951/19951 - 41s - 2ms/step - accuracy: 0.7277 - loss: 0.5429\n",
      "Epoch 8/50\n",
      "19951/19951 - 25s - 1ms/step - accuracy: 0.7277 - loss: 0.5425\n",
      "Epoch 9/50\n",
      "19951/19951 - 25s - 1ms/step - accuracy: 0.7279 - loss: 0.5419\n",
      "Epoch 10/50\n",
      "19951/19951 - 25s - 1ms/step - accuracy: 0.7280 - loss: 0.5414\n",
      "Epoch 11/50\n",
      "19951/19951 - 26s - 1ms/step - accuracy: 0.7286 - loss: 0.5410\n",
      "Epoch 12/50\n",
      "19951/19951 - 26s - 1ms/step - accuracy: 0.7287 - loss: 0.5405\n",
      "Epoch 13/50\n",
      "19951/19951 - 26s - 1ms/step - accuracy: 0.7290 - loss: 0.5404\n",
      "Epoch 14/50\n",
      "19951/19951 - 25s - 1ms/step - accuracy: 0.7286 - loss: 0.5400\n",
      "Epoch 15/50\n",
      "19951/19951 - 25s - 1ms/step - accuracy: 0.7286 - loss: 0.5399\n",
      "Epoch 16/50\n",
      "19951/19951 - 26s - 1ms/step - accuracy: 0.7285 - loss: 0.5396\n",
      "Epoch 17/50\n",
      "19951/19951 - 25s - 1ms/step - accuracy: 0.7291 - loss: 0.5396\n",
      "Epoch 18/50\n",
      "19951/19951 - 25s - 1ms/step - accuracy: 0.7287 - loss: 0.5394\n",
      "Epoch 19/50\n",
      "19951/19951 - 25s - 1ms/step - accuracy: 0.7293 - loss: 0.5391\n",
      "Epoch 20/50\n",
      "19951/19951 - 25s - 1ms/step - accuracy: 0.7291 - loss: 0.5389\n",
      "Epoch 21/50\n",
      "19951/19951 - 26s - 1ms/step - accuracy: 0.7296 - loss: 0.5389\n",
      "Epoch 22/50\n",
      "19951/19951 - 26s - 1ms/step - accuracy: 0.7293 - loss: 0.5387\n",
      "Epoch 23/50\n",
      "19951/19951 - 26s - 1ms/step - accuracy: 0.7299 - loss: 0.5386\n",
      "Epoch 24/50\n",
      "19951/19951 - 41s - 2ms/step - accuracy: 0.7300 - loss: 0.5383\n",
      "Epoch 25/50\n",
      "19951/19951 - 41s - 2ms/step - accuracy: 0.7305 - loss: 0.5380\n",
      "Epoch 26/50\n",
      "19951/19951 - 26s - 1ms/step - accuracy: 0.7302 - loss: 0.5379\n",
      "Epoch 27/50\n",
      "19951/19951 - 25s - 1ms/step - accuracy: 0.7305 - loss: 0.5377\n",
      "Epoch 28/50\n",
      "19951/19951 - 25s - 1ms/step - accuracy: 0.7304 - loss: 0.5376\n",
      "Epoch 29/50\n",
      "19951/19951 - 25s - 1ms/step - accuracy: 0.7306 - loss: 0.5376\n",
      "Epoch 30/50\n",
      "19951/19951 - 26s - 1ms/step - accuracy: 0.7305 - loss: 0.5375\n",
      "Epoch 31/50\n",
      "19951/19951 - 25s - 1ms/step - accuracy: 0.7301 - loss: 0.5374\n",
      "Epoch 32/50\n",
      "19951/19951 - 42s - 2ms/step - accuracy: 0.7308 - loss: 0.5374\n",
      "Epoch 33/50\n",
      "19951/19951 - 26s - 1ms/step - accuracy: 0.7305 - loss: 0.5373\n",
      "Epoch 34/50\n",
      "19951/19951 - 26s - 1ms/step - accuracy: 0.7299 - loss: 0.5373\n",
      "Epoch 35/50\n",
      "19951/19951 - 25s - 1ms/step - accuracy: 0.7307 - loss: 0.5372\n",
      "Epoch 36/50\n",
      "19951/19951 - 26s - 1ms/step - accuracy: 0.7305 - loss: 0.5370\n",
      "Epoch 37/50\n",
      "19951/19951 - 26s - 1ms/step - accuracy: 0.7305 - loss: 0.5371\n",
      "Epoch 38/50\n",
      "19951/19951 - 40s - 2ms/step - accuracy: 0.7309 - loss: 0.5369\n",
      "Epoch 39/50\n",
      "19951/19951 - 26s - 1ms/step - accuracy: 0.7302 - loss: 0.5369\n",
      "Epoch 40/50\n",
      "19951/19951 - 41s - 2ms/step - accuracy: 0.7305 - loss: 0.5372\n",
      "Epoch 41/50\n",
      "19951/19951 - 26s - 1ms/step - accuracy: 0.7309 - loss: 0.5367\n",
      "Epoch 42/50\n",
      "19951/19951 - 26s - 1ms/step - accuracy: 0.7309 - loss: 0.5369\n",
      "Epoch 43/50\n",
      "19951/19951 - 26s - 1ms/step - accuracy: 0.7305 - loss: 0.5370\n",
      "Epoch 44/50\n",
      "19951/19951 - 25s - 1ms/step - accuracy: 0.7302 - loss: 0.5367\n",
      "Epoch 45/50\n",
      "19951/19951 - 25s - 1ms/step - accuracy: 0.7313 - loss: 0.5368\n",
      "Epoch 46/50\n",
      "19951/19951 - 26s - 1ms/step - accuracy: 0.7310 - loss: 0.5366\n",
      "Epoch 47/50\n",
      "19951/19951 - 25s - 1ms/step - accuracy: 0.7309 - loss: 0.5367\n",
      "Epoch 48/50\n",
      "19951/19951 - 26s - 1ms/step - accuracy: 0.7310 - loss: 0.5366\n",
      "Epoch 49/50\n",
      "19951/19951 - 40s - 2ms/step - accuracy: 0.7313 - loss: 0.5368\n",
      "Epoch 50/50\n",
      "19951/19951 - 25s - 1ms/step - accuracy: 0.7311 - loss: 0.5367\n"
     ]
    }
   ],
   "source": [
    "## Compile the Keras Model\n",
    "model.compile(loss='binary_crossentropy', optimizer='adam', metrics=['accuracy'])\n",
    "\n",
    "## Fit the Keras Model !!!(May use classweight for different data size)\n",
    "history = model.fit(\n",
    "    X_train_scaled,  # Input (standarlized) features\n",
    "    y_train,   # Target labels (0 or 1)\n",
    "    epochs=50,  # Number of full passes over the training data\n",
    "    batch_size=10,  # number of samples per gradient update\n",
    "    verbose=2  # One line per epochs \n",
    ")"
   ]
  },
  {
   "cell_type": "code",
   "execution_count": 6,
   "id": "bd8e2733-ac65-46e0-ab30-f3d739fae236",
   "metadata": {},
   "outputs": [
    {
     "name": "stdout",
     "output_type": "stream",
     "text": [
      "\u001b[1m6235/6235\u001b[0m \u001b[32m━━━━━━━━━━━━━━━━━━━━\u001b[0m\u001b[37m\u001b[0m \u001b[1m5s\u001b[0m 750us/step\n",
      "Test Accuracy: 0.7243\n"
     ]
    }
   ],
   "source": [
    "## Make predictions on the test set\n",
    "y_pred_probs = model.predict(X_test_scaled)  # Use \"Test\" dataset for prediction\n",
    "y_pred_labels = (y_pred_probs > 0.5).astype(int)  # Convert probabilities into class label (>0.5 -> 1, <0.5 -> 0) \n",
    "\n",
    "## Evaluate the model accuracy on test dataset\n",
    "accuracy = accuracy_score(y_test, y_pred_labels)\n",
    "print(f'Test Accuracy: {accuracy:.4f}')"
   ]
  },
  {
   "cell_type": "code",
   "execution_count": 7,
   "id": "b5b550f9-cdfd-4f9b-92ee-6f8b6622afbd",
   "metadata": {},
   "outputs": [
    {
     "name": "stdout",
     "output_type": "stream",
     "text": [
      "结果已保存到 outputs/DA/z_+1.0, AUC=0.819\n"
     ]
    }
   ],
   "source": [
    "# Data Storage\n",
    "MODEL_NAME = \"DA\"        \n",
    "Z_TEST = 1.0             # Current fixed z value\n",
    "\n",
    "# File path：outputs/BA/z_+0.8/\n",
    "out_dir = f\"outputs/{MODEL_NAME}/z_{Z_TEST:+.1f}\"\n",
    "os.makedirs(out_dir, exist_ok=True)\n",
    "\n",
    "# Save predictions results\n",
    "np.savez_compressed(\n",
    "    os.path.join(out_dir, \"preds.npz\"),\n",
    "    y_test=y_test.astype(int),\n",
    "    y_score=y_pred_probs.ravel().astype(float)\n",
    ")\n",
    "\n",
    "# Save ROC results\n",
    "fpr, tpr, thr = roc_curve(y_test, y_pred_probs.ravel())\n",
    "rocAUC = auc(fpr, tpr)\n",
    "np.savez_compressed(\n",
    "    os.path.join(out_dir, \"roc.npz\"),\n",
    "    fpr=fpr, tpr=tpr, thr=thr, auc=np.array([rocAUC], dtype=float)\n",
    ")\n",
    "\n",
    "print(f\"Result saved in {out_dir}, AUC={rocAUC:.3f}\")"
   ]
  },
  {
   "cell_type": "code",
   "execution_count": 8,
   "id": "b089a784-a5a0-4084-87f1-8fad8545b0ab",
   "metadata": {},
   "outputs": [
    {
     "data": {
      "image/png": "[encoded data removed]",
      "text/plain": [
       "<Figure size 800x600 with 1 Axes>"
      ]
     },
     "metadata": {},
     "output_type": "display_data"
    }
   ],
   "source": [
    "## Plot classfier output distribution\n",
    "signal_scores = y_pred_probs[y_test == 1]\n",
    "background_scores = y_pred_probs[y_test == 0]\n",
    "\n",
    "# Create histogram\n",
    "plt.figure(figsize=(8, 6))\n",
    "plt.hist(signal_scores, bins=150, alpha=0.5, label='Signal', density=True, color='red')\n",
    "plt.hist(background_scores, bins=150, alpha=0.5, label='Background', density=True, color='blue')\n",
    "\n",
    "# Add labels and title\n",
    "plt.xlabel('Classifier Score (Predicted Probability)')\n",
    "plt.ylabel('Density')\n",
    "plt.title('Classifier Output Distribution on Test Set')\n",
    "plt.legend()\n",
    "plt.savefig(\"Score_histogram_DA_Z=-1.0.pdf\")\n",
    "plt.show()"
   ]
  },
  {
   "cell_type": "code",
   "execution_count": null,
   "id": "7cb88ac3-2c12-4998-8024-2e51537b4810",
   "metadata": {},
   "outputs": [
    {
     "name": "stdout",
     "output_type": "stream",
     "text": [
      "\u001b[1m6235/6235\u001b[0m \u001b[32m━━━━━━━━━━━━━━━━━━━━\u001b[0m\u001b[37m\u001b[0m \u001b[1m4s\u001b[0m 659us/step\n"
     ]
    }
   ],
   "source": [
    "## Plot ROC curve, calculate AUC\n",
    "# Acquire prediction probability on signals\n",
    "y_pred_probs = model.predict(X_test_scaled).ravel()\n",
    "\n",
    "# Calculate FPR, TPR and corresponding thersholds\n",
    "fpr, tpr, thresholds = roc_curve(y_test, y_pred_probs)\n",
    "\n",
    "# Calculate AUC (Area Under the Curve)\n",
    "roc_auc = auc(fpr, tpr)\n",
    "\n",
    "# Plot ROC curve\n",
    "plt.figure(figsize=(6, 5))\n",
    "plt.plot(fpr, tpr, label=f'ROC curve (AUC = {roc_auc:.2f})')\n",
    "plt.plot([0, 1], [0, 1], 'k--', label='Random guess')  # Show random model line\n",
    "plt.xlim([0.0, 1.0])\n",
    "plt.ylim([0.0, 1.05])\n",
    "plt.xlabel('False Positive Rate')\n",
    "plt.ylabel('True Positive Rate')\n",
    "plt.title('ROC Curve')\n",
    "plt.legend(loc='lower right')\n",
    "plt.grid(True)\n",
    "plt.tight_layout()\n",
    "plt.show()"
   ]
  },
  {
   "cell_type": "code",
   "execution_count": 9,
   "id": "81b93ca8-9a1e-403c-8130-20e541182a5b",
   "metadata": {},
   "outputs": [],
   "source": [
    "## Save Results\n",
    "np.save(\"y_test_augmented.npy\", y_test)\n",
    "np.save(\"y_pred_probs_augmented.npy\", y_pred_probs)"
   ]
  },
  {
   "cell_type": "code",
   "execution_count": null,
   "id": "e69756fa-b41f-431b-8fb8-5ef73545ed3a",
   "metadata": {},
   "outputs": [],
   "source": []
  },
  {
   "cell_type": "code",
   "execution_count": null,
   "id": "789b750a-c185-4718-89f7-fd24e339a2e3",
   "metadata": {},
   "outputs": [],
   "source": []
  }
 ],
 "metadata": {
  "kernelspec": {
   "display_name": "Python 3 (ipykernel)",
   "language": "python",
   "name": "python3"
  },
  "language_info": {
   "codemirror_mode": {
    "name": "ipython",
    "version": 3
   },
   "file_extension": ".py",
   "mimetype": "text/x-python",
   "name": "python",
   "nbconvert_exporter": "python",
   "pygments_lexer": "ipython3",
   "version": "3.10.18"
  }
 },
 "nbformat": 4,
 "nbformat_minor": 5
}
