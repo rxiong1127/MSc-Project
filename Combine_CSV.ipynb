{
 "cells": [
  {
   "cell_type": "code",
   "execution_count": 1,
   "id": "d8e0f5f5-6603-459a-ae9a-98c7cfb8b70e",
   "metadata": {},
   "outputs": [
    {
     "name": "stdout",
     "output_type": "stream",
     "text": [
      "Combination Complete，save as combined_dataset.csv\n"
     ]
    }
   ],
   "source": [
    "import pandas as pd\n",
    "\n",
    "# Read two files\n",
    "df_higgs = pd.read_csv('htautau_z+0.9.csv')\n",
    "df_z = pd.read_csv('ztautau_z+0.9.csv')\n",
    "\n",
    "# Add labels to each data frame\n",
    "df_higgs['label'] = 0  # signal\n",
    "df_z['label'] = 1      # background\n",
    "\n",
    "# Combine\n",
    "df_total = pd.concat([df_higgs, df_z], ignore_index=True)\n",
    "\n",
    "# Mix the order\n",
    "df_total = df_total.sample(frac=1).reset_index(drop=True)\n",
    "\n",
    "# Save as new file\n",
    "df_total.to_csv('combined_dataset_z+0.9.csv', index=False)\n",
    "\n",
    "print(\"Combination Complete，save as combined_dataset.csv\")"
   ]
  },
  {
   "cell_type": "code",
   "execution_count": null,
   "id": "8491fa7a-6891-4211-b916-adaae294e29b",
   "metadata": {},
   "outputs": [],
   "source": []
  }
 ],
 "metadata": {
  "kernelspec": {
   "display_name": "Python 3 (ipykernel)",
   "language": "python",
   "name": "python3"
  },
  "language_info": {
   "codemirror_mode": {
    "name": "ipython",
    "version": 3
   },
   "file_extension": ".py",
   "mimetype": "text/x-python",
   "name": "python",
   "nbconvert_exporter": "python",
   "pygments_lexer": "ipython3",
   "version": "3.10.18"
  }
 },
 "nbformat": 4,
 "nbformat_minor": 5
}
